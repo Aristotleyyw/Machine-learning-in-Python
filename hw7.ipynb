{
 "cells": [
  {
   "cell_type": "code",
   "execution_count": 34,
   "metadata": {
    "collapsed": true
   },
   "outputs": [],
   "source": [
    "import pandas as pd\n",
    "from sklearn.model_selection import StratifiedKFold\n",
    "from sklearn.model_selection import train_test_split\n",
    "headers=['buying','maint','doors','persons','lug_boot','safety','class values']\n",
    "data=pd.read_csv('https://archive.ics.uci.edu/ml/machine-learning-databases/car/car.data',names=headers)\n",
    "X_orig=data.loc[:,['buying','maint','doors','persons','lug_boot','safety']]\n",
    "y_orig=data.loc[:,['class values']]\n",
    "\n",
    "from copy import deepcopy\n",
    "X = deepcopy(X_orig)\n",
    "y = deepcopy(y_orig)"
   ]
  },
  {
   "cell_type": "code",
   "execution_count": 35,
   "metadata": {},
   "outputs": [
    {
     "name": "stdout",
     "output_type": "stream",
     "text": [
      "     class values\n",
      "212         unacc\n",
      "618         unacc\n",
      "944           acc\n",
      "1574        unacc\n",
      "414         unacc\n",
      "420         unacc\n",
      "483         unacc\n",
      "394           acc\n",
      "271         unacc\n",
      "203         unacc\n",
      "1192        unacc\n",
      "1663         good\n",
      "1040          acc\n",
      "237         unacc\n",
      "381         unacc\n",
      "416           acc\n",
      "261         unacc\n",
      "67          unacc\n",
      "1383        unacc\n",
      "322           acc\n",
      "124         unacc\n",
      "1716        unacc\n",
      "1405        unacc\n",
      "1216        unacc\n",
      "554           acc\n",
      "1516        unacc\n",
      "1330        unacc\n",
      "303         unacc\n",
      "532         unacc\n",
      "162         unacc\n",
      "...           ...\n",
      "276         unacc\n",
      "955         unacc\n",
      "1215        unacc\n",
      "385         unacc\n",
      "805           acc\n",
      "1437        unacc\n",
      "1515        unacc\n",
      "343         unacc\n",
      "769         unacc\n",
      "1332        unacc\n",
      "1685         good\n",
      "130         unacc\n",
      "1687         good\n",
      "871         unacc\n",
      "1123          acc\n",
      "1396        unacc\n",
      "87          unacc\n",
      "1482        unacc\n",
      "330         unacc\n",
      "1238        vgood\n",
      "466         unacc\n",
      "121         unacc\n",
      "1638        unacc\n",
      "1044        unacc\n",
      "1095        unacc\n",
      "1130        vgood\n",
      "1294         good\n",
      "860           acc\n",
      "1459        unacc\n",
      "1126          acc\n",
      "\n",
      "[1555 rows x 1 columns]\n"
     ]
    }
   ],
   "source": [
    "X_train, X_test, y_train, y_test = train_test_split(\n",
    "    X, y, test_size=0.1, random_state=42)\n",
    "\n",
    "print(y_train)"
   ]
  },
  {
   "cell_type": "code",
   "execution_count": 36,
   "metadata": {
    "scrolled": false
   },
   "outputs": [
    {
     "name": "stderr",
     "output_type": "stream",
     "text": [
      "D:\\anaconda\\envs\\tensorflow\\lib\\site-packages\\ipykernel_launcher.py:12: SettingWithCopyWarning: \n",
      "A value is trying to be set on a copy of a slice from a DataFrame.\n",
      "Try using .loc[row_indexer,col_indexer] = value instead\n",
      "\n",
      "See the caveats in the documentation: http://pandas.pydata.org/pandas-docs/stable/indexing.html#indexing-view-versus-copy\n",
      "  if sys.path[0] == '':\n",
      "D:\\anaconda\\envs\\tensorflow\\lib\\site-packages\\ipykernel_launcher.py:13: SettingWithCopyWarning: \n",
      "A value is trying to be set on a copy of a slice from a DataFrame.\n",
      "Try using .loc[row_indexer,col_indexer] = value instead\n",
      "\n",
      "See the caveats in the documentation: http://pandas.pydata.org/pandas-docs/stable/indexing.html#indexing-view-versus-copy\n",
      "  del sys.path[0]\n",
      "D:\\anaconda\\envs\\tensorflow\\lib\\site-packages\\ipykernel_launcher.py:15: SettingWithCopyWarning: \n",
      "A value is trying to be set on a copy of a slice from a DataFrame.\n",
      "Try using .loc[row_indexer,col_indexer] = value instead\n",
      "\n",
      "See the caveats in the documentation: http://pandas.pydata.org/pandas-docs/stable/indexing.html#indexing-view-versus-copy\n",
      "  from ipykernel import kernelapp as app\n",
      "D:\\anaconda\\envs\\tensorflow\\lib\\site-packages\\ipykernel_launcher.py:16: SettingWithCopyWarning: \n",
      "A value is trying to be set on a copy of a slice from a DataFrame.\n",
      "Try using .loc[row_indexer,col_indexer] = value instead\n",
      "\n",
      "See the caveats in the documentation: http://pandas.pydata.org/pandas-docs/stable/indexing.html#indexing-view-versus-copy\n",
      "  app.launch_new_instance()\n",
      "D:\\anaconda\\envs\\tensorflow\\lib\\site-packages\\ipykernel_launcher.py:9: SettingWithCopyWarning: \n",
      "A value is trying to be set on a copy of a slice from a DataFrame.\n",
      "Try using .loc[row_indexer,col_indexer] = value instead\n",
      "\n",
      "See the caveats in the documentation: http://pandas.pydata.org/pandas-docs/stable/indexing.html#indexing-view-versus-copy\n",
      "  if __name__ == '__main__':\n",
      "D:\\anaconda\\envs\\tensorflow\\lib\\site-packages\\ipykernel_launcher.py:10: SettingWithCopyWarning: \n",
      "A value is trying to be set on a copy of a slice from a DataFrame.\n",
      "Try using .loc[row_indexer,col_indexer] = value instead\n",
      "\n",
      "See the caveats in the documentation: http://pandas.pydata.org/pandas-docs/stable/indexing.html#indexing-view-versus-copy\n",
      "  # Remove the CWD from sys.path while we load stuff.\n"
     ]
    }
   ],
   "source": [
    "from sklearn.preprocessing import LabelEncoder\n",
    "from sklearn.preprocessing import StandardScaler\n",
    "encoders = dict() \n",
    "\n",
    "for col in headers:\n",
    "    \n",
    "    if col=='class values':\n",
    "        tmp = LabelEncoder()\n",
    "        y_train[col] = tmp.fit_transform(y_train[col])\n",
    "        y_test[col] = tmp.transform(y_test[col])\n",
    "    else:\n",
    "        X_train[col] = X_train[col].str.strip()\n",
    "        X_test[col] = X_test[col].str.strip()\n",
    "        encoders[col] = LabelEncoder()\n",
    "        X_train[col+'_int'] = encoders[col].fit_transform(X_train[col])\n",
    "        X_test[col+'_int'] = encoders[col].transform(X_test[col])\n"
   ]
  },
  {
   "cell_type": "code",
   "execution_count": 37,
   "metadata": {},
   "outputs": [
    {
     "name": "stdout",
     "output_type": "stream",
     "text": [
      "[[ -1.34631360e+00  -1.33768523e+00   4.48191851e-01  -1.23644519e+00\n",
      "    7.85222568e-04  -1.23345685e+00]\n",
      " [  4.43017721e-01  -4.45321202e-01  -1.34112358e+00  -7.11509353e-03\n",
      "    7.85222568e-04   1.22397482e+00]\n",
      " [ -1.34631360e+00  -1.33768523e+00   1.34284949e+00  -1.23644519e+00\n",
      "   -1.22023594e+00   1.22397482e+00]\n",
      " ..., \n",
      " [ -4.51647937e-01   1.33940673e+00   1.34284949e+00  -7.11509353e-03\n",
      "   -1.22023594e+00  -1.23345685e+00]\n",
      " [  1.33768344e+00   4.47042793e-01   4.48191851e-01  -1.23644519e+00\n",
      "    1.22180629e+00  -4.74102562e-03]\n",
      " [ -1.34631360e+00   4.47042793e-01   1.34284949e+00  -7.11509353e-03\n",
      "    7.85222568e-04  -1.23345685e+00]]\n"
     ]
    },
    {
     "name": "stderr",
     "output_type": "stream",
     "text": [
      "D:\\anaconda\\envs\\tensorflow\\lib\\site-packages\\sklearn\\utils\\validation.py:429: DataConversionWarning: Data with input dtype int64 was converted to float64 by StandardScaler.\n",
      "  warnings.warn(msg, _DataConversionWarning)\n"
     ]
    }
   ],
   "source": [
    "import numpy as np\n",
    "ss = StandardScaler()\n",
    "attributes=['buying','maint','doors','persons','lug_boot','safety']\n",
    "categorical_headers_ints = [x+'_int' for x in attributes]\n",
    "X_train = ss.fit_transform(X_train[categorical_headers_ints].values).astype(np.float32)\n",
    "X_test =ss.transform(X_test[categorical_headers_ints].values).astype(np.float32)\n",
    "\n",
    "#y_train = y_train['class values'].values.astype(np.int)\n",
    "#y_test = y_test['class values'].values.astype(np.int)\n",
    "\n",
    "print(X_test)\n",
    "\n"
   ]
  },
  {
   "cell_type": "code",
   "execution_count": 38,
   "metadata": {
    "collapsed": true
   },
   "outputs": [],
   "source": [
    "import tensorflow as tf\n",
    "from tensorflow.contrib import learn\n",
    "from tensorflow.contrib import layers\n",
    "from tensorflow.contrib.learn.python import SKCompat\n",
    "from tensorflow.contrib.learn.python.learn.estimators import model_fn as model_fn_lib\n",
    "tf.logging.set_verbosity(tf.logging.WARN) # control the verbosity of tensor flow\n"
   ]
  },
  {
   "cell_type": "code",
   "execution_count": 39,
   "metadata": {},
   "outputs": [
    {
     "name": "stdout",
     "output_type": "stream",
     "text": [
      "WARNING:tensorflow:Using temporary folder as model directory: C:\\Users\\Eve\\AppData\\Local\\Temp\\tmpr7aasbpe\n",
      "WARNING:tensorflow:From D:\\anaconda\\envs\\tensorflow\\lib\\site-packages\\tensorflow\\contrib\\learn\\python\\learn\\estimators\\head.py:1362: scalar_summary (from tensorflow.python.ops.logging_ops) is deprecated and will be removed after 2016-11-30.\n",
      "Instructions for updating:\n",
      "Please switch to tf.summary.scalar. Note that tf.summary.scalar uses the node name instead of the tag. This means that TensorFlow will automatically de-duplicate summary names based on the scope they are created in. Also, passing a tensor or list of tags to a scalar summary op is no longer supported.\n",
      "Wall time: 3.8 s\n"
     ]
    }
   ],
   "source": [
    "%%time\n",
    "# we need to tell tensorflow how many inputs to expect and what the data types will be\n",
    "# for this early example, everything is just numeric, real valued\n",
    "features_tf = [layers.real_valued_column('', dimension=X_train.shape[1])]\n",
    "clf = SKCompat(# wrap with SKCompat for easy usage like sklearn\n",
    "            learn.DNNClassifier(hidden_units=[10], feature_columns=features_tf)\n",
    "        )\n",
    "\n",
    "clf.fit(X_train,y_train,steps=100)"
   ]
  },
  {
   "cell_type": "code",
   "execution_count": 40,
   "metadata": {},
   "outputs": [
    {
     "name": "stdout",
     "output_type": "stream",
     "text": [
      "[[  0  44   0   0]\n",
      " [  0   7   0   0]\n",
      " [  0 112   0   0]\n",
      " [  0  10   0   0]] 0.0404624277457\n",
      "[1 1 1 1 1 1 1 1 1 1 1 1 1 1 1 1 1 1 1 1 1 1 1 1 1 1 1 1 1 1 1 1 1 1 1 1 1\n",
      " 1 1 1 1 1 1 1 1 1 1 1 1 1 1 1 1 1 1 1 1 1 1 1 1 1 1 1 1 1 1 1 1 1 1 1 1 1\n",
      " 1 1 1 1 1 1 1 1 1 1 1 1 1 1 1 1 1 1 1 1 1 1 1 1 1 1 1 1 1 1 1 1 1 1 1 1 1\n",
      " 1 1 1 1 1 1 1 1 1 1 1 1 1 1 1 1 1 1 1 1 1 1 1 1 1 1 1 1 1 1 1 1 1 1 1 1 1\n",
      " 1 1 1 1 1 1 1 1 1 1 1 1 1 1 1 1 1 1 1 1 1 1 1 1 1]\n"
     ]
    }
   ],
   "source": [
    "from sklearn import metrics as mt\n",
    "\n",
    "yhat = clf.predict(X_test)\n",
    "# notice that the output needs some interpretation\n",
    "# as its not completely the same as sklearn\n",
    "yhat = yhat['classes']\n",
    "print(mt.confusion_matrix(y_test,yhat),\n",
    "      mt.accuracy_score(y_test,yhat))\n",
    "print(yhat)"
   ]
  },
  {
   "cell_type": "code",
   "execution_count": 41,
   "metadata": {},
   "outputs": [
    {
     "name": "stdout",
     "output_type": "stream",
     "text": [
      "WARNING:tensorflow:Using temporary folder as model directory: C:\\Users\\Eve\\AppData\\Local\\Temp\\tmplrlx7q9f\n",
      "WARNING:tensorflow:From D:\\anaconda\\envs\\tensorflow\\lib\\site-packages\\tensorflow\\contrib\\learn\\python\\learn\\estimators\\head.py:1362: scalar_summary (from tensorflow.python.ops.logging_ops) is deprecated and will be removed after 2016-11-30.\n",
      "Instructions for updating:\n",
      "Please switch to tf.summary.scalar. Note that tf.summary.scalar uses the node name instead of the tag. This means that TensorFlow will automatically de-duplicate summary names based on the scope they are created in. Also, passing a tensor or list of tags to a scalar summary op is no longer supported.\n",
      "[[  0  44   0   0]\n",
      " [  0   7   0   0]\n",
      " [  0 112   0   0]\n",
      " [  0  10   0   0]] 0.0404624277457\n",
      "Wall time: 4.83 s\n"
     ]
    }
   ],
   "source": [
    "\n",
    "%%time\n",
    "# we can also custimize the classifier somewhat:\n",
    "clf = SKCompat(# wrap with SKCompat for easy usage like sklearn\n",
    "            learn.DNNClassifier(hidden_units=[50], \n",
    "                                feature_columns=features_tf,\n",
    "                                activation_fn=tf.nn.sigmoid \n",
    "                                # tf.tanh, tf.sigmoid, tf.nn.relu, tf.nn.softmax etc.\n",
    "                                )\n",
    "        )\n",
    "\n",
    "clf.fit(X_train,y_train,steps=1000)\n",
    "\n",
    "yhat = clf.predict(X_test)['classes']\n",
    "print(mt.confusion_matrix(y_test,yhat),\n",
    "      mt.accuracy_score(y_test,yhat))"
   ]
  },
  {
   "cell_type": "code",
   "execution_count": null,
   "metadata": {
    "collapsed": true
   },
   "outputs": [],
   "source": []
  }
 ],
 "metadata": {
  "kernelspec": {
   "display_name": "Python 3",
   "language": "python",
   "name": "python3"
  },
  "language_info": {
   "codemirror_mode": {
    "name": "ipython",
    "version": 3
   },
   "file_extension": ".py",
   "mimetype": "text/x-python",
   "name": "python",
   "nbconvert_exporter": "python",
   "pygments_lexer": "ipython3",
   "version": "3.5.3"
  }
 },
 "nbformat": 4,
 "nbformat_minor": 1
}
